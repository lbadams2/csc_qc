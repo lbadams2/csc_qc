{
 "cells": [
  {
   "cell_type": "markdown",
   "metadata": {},
   "source": [
    "# Example 3: Two-qubit equality circuit\n",
    "Create a circuit that checks whether two qubits are equal in the computational basis. "
   ]
  },
  {
   "cell_type": "code",
   "execution_count": 3,
   "metadata": {},
   "outputs": [],
   "source": [
    "from qiskit import QuantumRegister, ClassicalRegister, QuantumCircuit\n",
    "from qiskit import Aer, execute\n",
    "from qiskit.tools.visualization import plot_histogram"
   ]
  },
  {
   "cell_type": "code",
   "execution_count": 20,
   "metadata": {},
   "outputs": [],
   "source": [
    "# Create a 2-qubit input register and a 1-qubit output register\n",
    "# Create a 1-bit classical register for the measurement`\n",
    "# Create a circuit (qc) including those registers\n",
    "\n",
    "qin = QuantumRegister(2)  # input\n",
    "qout = QuantumRegister(1) # output\n",
    "c = ClassicalRegister(1)\n",
    "qc = QuantumCircuit(qin,qout,c)\n"
   ]
  },
  {
   "cell_type": "code",
   "execution_count": 21,
   "metadata": {},
   "outputs": [],
   "source": [
    "# Define a python function that takes a circuit, an input register, and an output register\n",
    "# The function adds gates to the circuit to implement the equals circuit\n",
    "def equals_circuit(circuit, input_reg, out_reg):\n",
    "    circuit.cx(input_reg[0], out_reg[0])\n",
    "    circuit.cx(input_reg[1], out_reg[0])\n",
    "    circuit.x(out_reg[0])\n",
    "    return circuit\n"
   ]
  },
  {
   "cell_type": "code",
   "execution_count": 22,
   "metadata": {},
   "outputs": [
    {
     "data": {
      "text/plain": [
       "<qiskit.circuit.instructionset.InstructionSet at 0x7fe5085b1850>"
      ]
     },
     "execution_count": 22,
     "metadata": {},
     "output_type": "execute_result"
    }
   ],
   "source": [
    "# Build a circuit that initializes the input bits to |0> or |1> (using an X gate)\n",
    "# Calls the equal2 function and then measures the output\n",
    "#qc.x(qin[0])\n",
    "#qc.x(qin[1])\n",
    "# if inputs are in superposition, will get an entangled state, 4 possiblilites for output\n",
    "# cnots entangle the inputs with the output\n",
    "qc = equals_circuit(qc, qin, qout)\n",
    "\n",
    "qc.measure(qout,c)\n"
   ]
  },
  {
   "cell_type": "code",
   "execution_count": 23,
   "metadata": {},
   "outputs": [
    {
     "data": {
      "image/png": "[encoded data removed]",
      "text/plain": [
       "<Figure size 407.829x264.88 with 1 Axes>"
      ]
     },
     "execution_count": 23,
     "metadata": {},
     "output_type": "execute_result"
    }
   ],
   "source": [
    "qc.draw(output='mpl')"
   ]
  },
  {
   "cell_type": "code",
   "execution_count": 24,
   "metadata": {},
   "outputs": [
    {
     "name": "stdout",
     "output_type": "stream",
     "text": [
      "{'1': 512}\n"
     ]
    },
    {
     "data": {
      "image/png": "[encoded data removed]",
      "text/plain": [
       "<Figure size 504x360 with 1 Axes>"
      ]
     },
     "execution_count": 24,
     "metadata": {},
     "output_type": "execute_result"
    }
   ],
   "source": [
    "# Simulate and show results\n",
    "backend = Aer.get_backend('qasm_simulator')\n",
    "job = execute(qc, backend, shots=512)  # shots default = 1024\n",
    "result = job.result()\n",
    "print(result.get_counts())\n",
    "plot_histogram(result.get_counts())"
   ]
  },
  {
   "cell_type": "code",
   "execution_count": null,
   "metadata": {},
   "outputs": [],
   "source": []
  }
 ],
 "metadata": {
  "kernelspec": {
   "display_name": "Python 3",
   "language": "python",
   "name": "python3"
  },
  "language_info": {
   "codemirror_mode": {
    "name": "ipython",
    "version": 3
   },
   "file_extension": ".py",
   "mimetype": "text/x-python",
   "name": "python",
   "nbconvert_exporter": "python",
   "pygments_lexer": "ipython3",
   "version": "3.8.5"
  }
 },
 "nbformat": 4,
 "nbformat_minor": 2
}
